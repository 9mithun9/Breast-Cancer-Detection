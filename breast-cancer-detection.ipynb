{
 "cells": [
  {
   "cell_type": "code",
   "execution_count": 1,
   "id": "589bca1d",
   "metadata": {
    "execution": {
     "iopub.execute_input": "2025-05-05T10:22:34.468595Z",
     "iopub.status.busy": "2025-05-05T10:22:34.468291Z",
     "iopub.status.idle": "2025-05-05T10:22:38.849626Z",
     "shell.execute_reply": "2025-05-05T10:22:38.848570Z"
    },
    "papermill": {
     "duration": 4.388412,
     "end_time": "2025-05-05T10:22:38.851470",
     "exception": false,
     "start_time": "2025-05-05T10:22:34.463058",
     "status": "completed"
    },
    "tags": []
   },
   "outputs": [],
   "source": [
    "import pandas as pd\n",
    "import seaborn as sns\n",
    "import numpy as np\n",
    "import matplotlib.pyplot as plt \n",
    "import plotly.express as px\n",
    "from sklearn.model_selection import train_test_split "
   ]
  },
  {
   "cell_type": "code",
   "execution_count": 2,
   "id": "cd8ed8e4",
   "metadata": {
    "execution": {
     "iopub.execute_input": "2025-05-05T10:22:38.859833Z",
     "iopub.status.busy": "2025-05-05T10:22:38.859366Z",
     "iopub.status.idle": "2025-05-05T10:22:38.885193Z",
     "shell.execute_reply": "2025-05-05T10:22:38.884306Z"
    },
    "papermill": {
     "duration": 0.03144,
     "end_time": "2025-05-05T10:22:38.886671",
     "exception": false,
     "start_time": "2025-05-05T10:22:38.855231",
     "status": "completed"
    },
    "tags": []
   },
   "outputs": [],
   "source": [
    "train_df = pd.read_csv('/kaggle/input/breast-cancer-wisconsin-data/data.csv')"
   ]
  },
  {
   "cell_type": "code",
   "execution_count": 3,
   "id": "bdb19917",
   "metadata": {
    "execution": {
     "iopub.execute_input": "2025-05-05T10:22:38.894860Z",
     "iopub.status.busy": "2025-05-05T10:22:38.894581Z",
     "iopub.status.idle": "2025-05-05T10:22:38.905842Z",
     "shell.execute_reply": "2025-05-05T10:22:38.905093Z"
    },
    "papermill": {
     "duration": 0.016794,
     "end_time": "2025-05-05T10:22:38.907164",
     "exception": false,
     "start_time": "2025-05-05T10:22:38.890370",
     "status": "completed"
    },
    "tags": []
   },
   "outputs": [],
   "source": [
    "train_df['diagnosis'] = train_df.diagnosis.map({'B':0, 'M':1})"
   ]
  },
  {
   "cell_type": "code",
   "execution_count": 4,
   "id": "d10ffa82",
   "metadata": {
    "execution": {
     "iopub.execute_input": "2025-05-05T10:22:38.914667Z",
     "iopub.status.busy": "2025-05-05T10:22:38.914400Z",
     "iopub.status.idle": "2025-05-05T10:22:38.918884Z",
     "shell.execute_reply": "2025-05-05T10:22:38.918275Z"
    },
    "papermill": {
     "duration": 0.00986,
     "end_time": "2025-05-05T10:22:38.920397",
     "exception": false,
     "start_time": "2025-05-05T10:22:38.910537",
     "status": "completed"
    },
    "tags": []
   },
   "outputs": [],
   "source": [
    "mean_cols = ['radius_mean', 'texture_mean', 'perimeter_mean', 'area_mean', 'smoothness_mean', 'compactness_mean', 'concavity_mean','concave points_mean', 'symmetry_mean', 'fractal_dimension_mean']\n",
    "error_cols = ['radius_se', 'texture_se', 'perimeter_se', 'area_se', 'smoothness_se', 'compactness_se', 'concavity_se', 'concave points_se', 'symmetry_se','fractal_dimension_se']\n",
    "worst_cols = ['radius_worst', 'texture_worst','perimeter_worst', 'area_worst', 'smoothness_worst','compactness_worst', 'concavity_worst', 'concave points_worst','symmetry_worst', 'fractal_dimension_worst']"
   ]
  },
  {
   "cell_type": "code",
   "execution_count": 5,
   "id": "7fa2fadd",
   "metadata": {
    "execution": {
     "iopub.execute_input": "2025-05-05T10:22:38.927691Z",
     "iopub.status.busy": "2025-05-05T10:22:38.927447Z",
     "iopub.status.idle": "2025-05-05T10:22:38.930913Z",
     "shell.execute_reply": "2025-05-05T10:22:38.930323Z"
    },
    "papermill": {
     "duration": 0.008322,
     "end_time": "2025-05-05T10:22:38.932013",
     "exception": false,
     "start_time": "2025-05-05T10:22:38.923691",
     "status": "completed"
    },
    "tags": []
   },
   "outputs": [],
   "source": [
    "target_cols = 'diagnosis'"
   ]
  },
  {
   "cell_type": "code",
   "execution_count": 6,
   "id": "daff8616",
   "metadata": {
    "execution": {
     "iopub.execute_input": "2025-05-05T10:22:38.939681Z",
     "iopub.status.busy": "2025-05-05T10:22:38.938948Z",
     "iopub.status.idle": "2025-05-05T10:22:38.947263Z",
     "shell.execute_reply": "2025-05-05T10:22:38.946488Z"
    },
    "papermill": {
     "duration": 0.013384,
     "end_time": "2025-05-05T10:22:38.948615",
     "exception": false,
     "start_time": "2025-05-05T10:22:38.935231",
     "status": "completed"
    },
    "tags": []
   },
   "outputs": [],
   "source": [
    "x_train, x_val, y_train, y_val = train_test_split(train_df, train_df['diagnosis'], test_size=0.2)"
   ]
  },
  {
   "cell_type": "code",
   "execution_count": 7,
   "id": "6197d4de",
   "metadata": {
    "execution": {
     "iopub.execute_input": "2025-05-05T10:22:38.956664Z",
     "iopub.status.busy": "2025-05-05T10:22:38.956192Z",
     "iopub.status.idle": "2025-05-05T10:22:38.959790Z",
     "shell.execute_reply": "2025-05-05T10:22:38.959179Z"
    },
    "papermill": {
     "duration": 0.008687,
     "end_time": "2025-05-05T10:22:38.960873",
     "exception": false,
     "start_time": "2025-05-05T10:22:38.952186",
     "status": "completed"
    },
    "tags": []
   },
   "outputs": [],
   "source": [
    "from sklearn.preprocessing import StandardScaler"
   ]
  },
  {
   "cell_type": "code",
   "execution_count": 8,
   "id": "f274bb2e",
   "metadata": {
    "execution": {
     "iopub.execute_input": "2025-05-05T10:22:38.968536Z",
     "iopub.status.busy": "2025-05-05T10:22:38.968281Z",
     "iopub.status.idle": "2025-05-05T10:22:38.972000Z",
     "shell.execute_reply": "2025-05-05T10:22:38.971378Z"
    },
    "papermill": {
     "duration": 0.008688,
     "end_time": "2025-05-05T10:22:38.973106",
     "exception": false,
     "start_time": "2025-05-05T10:22:38.964418",
     "status": "completed"
    },
    "tags": []
   },
   "outputs": [],
   "source": [
    "scaler = StandardScaler()"
   ]
  },
  {
   "cell_type": "code",
   "execution_count": 9,
   "id": "51fbbf0f",
   "metadata": {
    "execution": {
     "iopub.execute_input": "2025-05-05T10:22:38.980764Z",
     "iopub.status.busy": "2025-05-05T10:22:38.980221Z",
     "iopub.status.idle": "2025-05-05T10:22:38.983807Z",
     "shell.execute_reply": "2025-05-05T10:22:38.983187Z"
    },
    "papermill": {
     "duration": 0.00848,
     "end_time": "2025-05-05T10:22:38.984916",
     "exception": false,
     "start_time": "2025-05-05T10:22:38.976436",
     "status": "completed"
    },
    "tags": []
   },
   "outputs": [],
   "source": [
    "numeric_cols = mean_cols + error_cols + worst_cols "
   ]
  },
  {
   "cell_type": "code",
   "execution_count": 10,
   "id": "bb4cf633",
   "metadata": {
    "execution": {
     "iopub.execute_input": "2025-05-05T10:22:38.992345Z",
     "iopub.status.busy": "2025-05-05T10:22:38.991813Z",
     "iopub.status.idle": "2025-05-05T10:22:39.012001Z",
     "shell.execute_reply": "2025-05-05T10:22:39.011242Z"
    },
    "papermill": {
     "duration": 0.02515,
     "end_time": "2025-05-05T10:22:39.013230",
     "exception": false,
     "start_time": "2025-05-05T10:22:38.988080",
     "status": "completed"
    },
    "tags": []
   },
   "outputs": [
    {
     "data": {
      "text/html": [
       "<style>#sk-container-id-1 {color: black;background-color: white;}#sk-container-id-1 pre{padding: 0;}#sk-container-id-1 div.sk-toggleable {background-color: white;}#sk-container-id-1 label.sk-toggleable__label {cursor: pointer;display: block;width: 100%;margin-bottom: 0;padding: 0.3em;box-sizing: border-box;text-align: center;}#sk-container-id-1 label.sk-toggleable__label-arrow:before {content: \"▸\";float: left;margin-right: 0.25em;color: #696969;}#sk-container-id-1 label.sk-toggleable__label-arrow:hover:before {color: black;}#sk-container-id-1 div.sk-estimator:hover label.sk-toggleable__label-arrow:before {color: black;}#sk-container-id-1 div.sk-toggleable__content {max-height: 0;max-width: 0;overflow: hidden;text-align: left;background-color: #f0f8ff;}#sk-container-id-1 div.sk-toggleable__content pre {margin: 0.2em;color: black;border-radius: 0.25em;background-color: #f0f8ff;}#sk-container-id-1 input.sk-toggleable__control:checked~div.sk-toggleable__content {max-height: 200px;max-width: 100%;overflow: auto;}#sk-container-id-1 input.sk-toggleable__control:checked~label.sk-toggleable__label-arrow:before {content: \"▾\";}#sk-container-id-1 div.sk-estimator input.sk-toggleable__control:checked~label.sk-toggleable__label {background-color: #d4ebff;}#sk-container-id-1 div.sk-label input.sk-toggleable__control:checked~label.sk-toggleable__label {background-color: #d4ebff;}#sk-container-id-1 input.sk-hidden--visually {border: 0;clip: rect(1px 1px 1px 1px);clip: rect(1px, 1px, 1px, 1px);height: 1px;margin: -1px;overflow: hidden;padding: 0;position: absolute;width: 1px;}#sk-container-id-1 div.sk-estimator {font-family: monospace;background-color: #f0f8ff;border: 1px dotted black;border-radius: 0.25em;box-sizing: border-box;margin-bottom: 0.5em;}#sk-container-id-1 div.sk-estimator:hover {background-color: #d4ebff;}#sk-container-id-1 div.sk-parallel-item::after {content: \"\";width: 100%;border-bottom: 1px solid gray;flex-grow: 1;}#sk-container-id-1 div.sk-label:hover label.sk-toggleable__label {background-color: #d4ebff;}#sk-container-id-1 div.sk-serial::before {content: \"\";position: absolute;border-left: 1px solid gray;box-sizing: border-box;top: 0;bottom: 0;left: 50%;z-index: 0;}#sk-container-id-1 div.sk-serial {display: flex;flex-direction: column;align-items: center;background-color: white;padding-right: 0.2em;padding-left: 0.2em;position: relative;}#sk-container-id-1 div.sk-item {position: relative;z-index: 1;}#sk-container-id-1 div.sk-parallel {display: flex;align-items: stretch;justify-content: center;background-color: white;position: relative;}#sk-container-id-1 div.sk-item::before, #sk-container-id-1 div.sk-parallel-item::before {content: \"\";position: absolute;border-left: 1px solid gray;box-sizing: border-box;top: 0;bottom: 0;left: 50%;z-index: -1;}#sk-container-id-1 div.sk-parallel-item {display: flex;flex-direction: column;z-index: 1;position: relative;background-color: white;}#sk-container-id-1 div.sk-parallel-item:first-child::after {align-self: flex-end;width: 50%;}#sk-container-id-1 div.sk-parallel-item:last-child::after {align-self: flex-start;width: 50%;}#sk-container-id-1 div.sk-parallel-item:only-child::after {width: 0;}#sk-container-id-1 div.sk-dashed-wrapped {border: 1px dashed gray;margin: 0 0.4em 0.5em 0.4em;box-sizing: border-box;padding-bottom: 0.4em;background-color: white;}#sk-container-id-1 div.sk-label label {font-family: monospace;font-weight: bold;display: inline-block;line-height: 1.2em;}#sk-container-id-1 div.sk-label-container {text-align: center;}#sk-container-id-1 div.sk-container {/* jupyter's `normalize.less` sets `[hidden] { display: none; }` but bootstrap.min.css set `[hidden] { display: none !important; }` so we also need the `!important` here to be able to override the default hidden behavior on the sphinx rendered scikit-learn.org. See: https://github.com/scikit-learn/scikit-learn/issues/21755 */display: inline-block !important;position: relative;}#sk-container-id-1 div.sk-text-repr-fallback {display: none;}</style><div id=\"sk-container-id-1\" class=\"sk-top-container\"><div class=\"sk-text-repr-fallback\"><pre>StandardScaler()</pre><b>In a Jupyter environment, please rerun this cell to show the HTML representation or trust the notebook. <br />On GitHub, the HTML representation is unable to render, please try loading this page with nbviewer.org.</b></div><div class=\"sk-container\" hidden><div class=\"sk-item\"><div class=\"sk-estimator sk-toggleable\"><input class=\"sk-toggleable__control sk-hidden--visually\" id=\"sk-estimator-id-1\" type=\"checkbox\" checked><label for=\"sk-estimator-id-1\" class=\"sk-toggleable__label sk-toggleable__label-arrow\">StandardScaler</label><div class=\"sk-toggleable__content\"><pre>StandardScaler()</pre></div></div></div></div></div>"
      ],
      "text/plain": [
       "StandardScaler()"
      ]
     },
     "execution_count": 10,
     "metadata": {},
     "output_type": "execute_result"
    }
   ],
   "source": [
    "scaler.fit(x_train[numeric_cols])"
   ]
  },
  {
   "cell_type": "code",
   "execution_count": 11,
   "id": "89868602",
   "metadata": {
    "execution": {
     "iopub.execute_input": "2025-05-05T10:22:39.021910Z",
     "iopub.status.busy": "2025-05-05T10:22:39.021267Z",
     "iopub.status.idle": "2025-05-05T10:22:39.035155Z",
     "shell.execute_reply": "2025-05-05T10:22:39.034561Z"
    },
    "papermill": {
     "duration": 0.019443,
     "end_time": "2025-05-05T10:22:39.036520",
     "exception": false,
     "start_time": "2025-05-05T10:22:39.017077",
     "status": "completed"
    },
    "tags": []
   },
   "outputs": [],
   "source": [
    "x_train[numeric_cols] = scaler.transform(x_train[numeric_cols])"
   ]
  },
  {
   "cell_type": "code",
   "execution_count": 12,
   "id": "2c442f06",
   "metadata": {
    "execution": {
     "iopub.execute_input": "2025-05-05T10:22:39.044700Z",
     "iopub.status.busy": "2025-05-05T10:22:39.044225Z",
     "iopub.status.idle": "2025-05-05T10:22:39.053436Z",
     "shell.execute_reply": "2025-05-05T10:22:39.052834Z"
    },
    "papermill": {
     "duration": 0.014551,
     "end_time": "2025-05-05T10:22:39.054705",
     "exception": false,
     "start_time": "2025-05-05T10:22:39.040154",
     "status": "completed"
    },
    "tags": []
   },
   "outputs": [],
   "source": [
    "x_val[numeric_cols] = scaler.transform(x_val[numeric_cols])"
   ]
  },
  {
   "cell_type": "code",
   "execution_count": 13,
   "id": "d9502449",
   "metadata": {
    "execution": {
     "iopub.execute_input": "2025-05-05T10:22:39.062966Z",
     "iopub.status.busy": "2025-05-05T10:22:39.062380Z",
     "iopub.status.idle": "2025-05-05T10:22:39.144780Z",
     "shell.execute_reply": "2025-05-05T10:22:39.143709Z"
    },
    "papermill": {
     "duration": 0.088233,
     "end_time": "2025-05-05T10:22:39.146630",
     "exception": false,
     "start_time": "2025-05-05T10:22:39.058397",
     "status": "completed"
    },
    "tags": []
   },
   "outputs": [],
   "source": [
    "from sklearn.linear_model import LogisticRegression"
   ]
  },
  {
   "cell_type": "code",
   "execution_count": 14,
   "id": "969a0b7f",
   "metadata": {
    "execution": {
     "iopub.execute_input": "2025-05-05T10:22:39.155718Z",
     "iopub.status.busy": "2025-05-05T10:22:39.155437Z",
     "iopub.status.idle": "2025-05-05T10:22:39.159103Z",
     "shell.execute_reply": "2025-05-05T10:22:39.158608Z"
    },
    "papermill": {
     "duration": 0.009424,
     "end_time": "2025-05-05T10:22:39.160498",
     "exception": false,
     "start_time": "2025-05-05T10:22:39.151074",
     "status": "completed"
    },
    "tags": []
   },
   "outputs": [],
   "source": [
    "model = LogisticRegression(solver='saga', max_iter=1000)"
   ]
  },
  {
   "cell_type": "code",
   "execution_count": 15,
   "id": "4bea78ad",
   "metadata": {
    "execution": {
     "iopub.execute_input": "2025-05-05T10:22:39.169591Z",
     "iopub.status.busy": "2025-05-05T10:22:39.169336Z",
     "iopub.status.idle": "2025-05-05T10:22:39.279812Z",
     "shell.execute_reply": "2025-05-05T10:22:39.278899Z"
    },
    "papermill": {
     "duration": 0.117116,
     "end_time": "2025-05-05T10:22:39.281210",
     "exception": false,
     "start_time": "2025-05-05T10:22:39.164094",
     "status": "completed"
    },
    "tags": []
   },
   "outputs": [
    {
     "data": {
      "text/html": [
       "<style>#sk-container-id-2 {color: black;background-color: white;}#sk-container-id-2 pre{padding: 0;}#sk-container-id-2 div.sk-toggleable {background-color: white;}#sk-container-id-2 label.sk-toggleable__label {cursor: pointer;display: block;width: 100%;margin-bottom: 0;padding: 0.3em;box-sizing: border-box;text-align: center;}#sk-container-id-2 label.sk-toggleable__label-arrow:before {content: \"▸\";float: left;margin-right: 0.25em;color: #696969;}#sk-container-id-2 label.sk-toggleable__label-arrow:hover:before {color: black;}#sk-container-id-2 div.sk-estimator:hover label.sk-toggleable__label-arrow:before {color: black;}#sk-container-id-2 div.sk-toggleable__content {max-height: 0;max-width: 0;overflow: hidden;text-align: left;background-color: #f0f8ff;}#sk-container-id-2 div.sk-toggleable__content pre {margin: 0.2em;color: black;border-radius: 0.25em;background-color: #f0f8ff;}#sk-container-id-2 input.sk-toggleable__control:checked~div.sk-toggleable__content {max-height: 200px;max-width: 100%;overflow: auto;}#sk-container-id-2 input.sk-toggleable__control:checked~label.sk-toggleable__label-arrow:before {content: \"▾\";}#sk-container-id-2 div.sk-estimator input.sk-toggleable__control:checked~label.sk-toggleable__label {background-color: #d4ebff;}#sk-container-id-2 div.sk-label input.sk-toggleable__control:checked~label.sk-toggleable__label {background-color: #d4ebff;}#sk-container-id-2 input.sk-hidden--visually {border: 0;clip: rect(1px 1px 1px 1px);clip: rect(1px, 1px, 1px, 1px);height: 1px;margin: -1px;overflow: hidden;padding: 0;position: absolute;width: 1px;}#sk-container-id-2 div.sk-estimator {font-family: monospace;background-color: #f0f8ff;border: 1px dotted black;border-radius: 0.25em;box-sizing: border-box;margin-bottom: 0.5em;}#sk-container-id-2 div.sk-estimator:hover {background-color: #d4ebff;}#sk-container-id-2 div.sk-parallel-item::after {content: \"\";width: 100%;border-bottom: 1px solid gray;flex-grow: 1;}#sk-container-id-2 div.sk-label:hover label.sk-toggleable__label {background-color: #d4ebff;}#sk-container-id-2 div.sk-serial::before {content: \"\";position: absolute;border-left: 1px solid gray;box-sizing: border-box;top: 0;bottom: 0;left: 50%;z-index: 0;}#sk-container-id-2 div.sk-serial {display: flex;flex-direction: column;align-items: center;background-color: white;padding-right: 0.2em;padding-left: 0.2em;position: relative;}#sk-container-id-2 div.sk-item {position: relative;z-index: 1;}#sk-container-id-2 div.sk-parallel {display: flex;align-items: stretch;justify-content: center;background-color: white;position: relative;}#sk-container-id-2 div.sk-item::before, #sk-container-id-2 div.sk-parallel-item::before {content: \"\";position: absolute;border-left: 1px solid gray;box-sizing: border-box;top: 0;bottom: 0;left: 50%;z-index: -1;}#sk-container-id-2 div.sk-parallel-item {display: flex;flex-direction: column;z-index: 1;position: relative;background-color: white;}#sk-container-id-2 div.sk-parallel-item:first-child::after {align-self: flex-end;width: 50%;}#sk-container-id-2 div.sk-parallel-item:last-child::after {align-self: flex-start;width: 50%;}#sk-container-id-2 div.sk-parallel-item:only-child::after {width: 0;}#sk-container-id-2 div.sk-dashed-wrapped {border: 1px dashed gray;margin: 0 0.4em 0.5em 0.4em;box-sizing: border-box;padding-bottom: 0.4em;background-color: white;}#sk-container-id-2 div.sk-label label {font-family: monospace;font-weight: bold;display: inline-block;line-height: 1.2em;}#sk-container-id-2 div.sk-label-container {text-align: center;}#sk-container-id-2 div.sk-container {/* jupyter's `normalize.less` sets `[hidden] { display: none; }` but bootstrap.min.css set `[hidden] { display: none !important; }` so we also need the `!important` here to be able to override the default hidden behavior on the sphinx rendered scikit-learn.org. See: https://github.com/scikit-learn/scikit-learn/issues/21755 */display: inline-block !important;position: relative;}#sk-container-id-2 div.sk-text-repr-fallback {display: none;}</style><div id=\"sk-container-id-2\" class=\"sk-top-container\"><div class=\"sk-text-repr-fallback\"><pre>LogisticRegression(max_iter=1000, solver=&#x27;saga&#x27;)</pre><b>In a Jupyter environment, please rerun this cell to show the HTML representation or trust the notebook. <br />On GitHub, the HTML representation is unable to render, please try loading this page with nbviewer.org.</b></div><div class=\"sk-container\" hidden><div class=\"sk-item\"><div class=\"sk-estimator sk-toggleable\"><input class=\"sk-toggleable__control sk-hidden--visually\" id=\"sk-estimator-id-2\" type=\"checkbox\" checked><label for=\"sk-estimator-id-2\" class=\"sk-toggleable__label sk-toggleable__label-arrow\">LogisticRegression</label><div class=\"sk-toggleable__content\"><pre>LogisticRegression(max_iter=1000, solver=&#x27;saga&#x27;)</pre></div></div></div></div></div>"
      ],
      "text/plain": [
       "LogisticRegression(max_iter=1000, solver='saga')"
      ]
     },
     "execution_count": 15,
     "metadata": {},
     "output_type": "execute_result"
    }
   ],
   "source": [
    "model.fit(x_train[numeric_cols], x_train[target_cols])"
   ]
  },
  {
   "cell_type": "code",
   "execution_count": 16,
   "id": "645077da",
   "metadata": {
    "execution": {
     "iopub.execute_input": "2025-05-05T10:22:39.290006Z",
     "iopub.status.busy": "2025-05-05T10:22:39.289518Z",
     "iopub.status.idle": "2025-05-05T10:22:39.301830Z",
     "shell.execute_reply": "2025-05-05T10:22:39.301170Z"
    },
    "papermill": {
     "duration": 0.018028,
     "end_time": "2025-05-05T10:22:39.303268",
     "exception": false,
     "start_time": "2025-05-05T10:22:39.285240",
     "status": "completed"
    },
    "tags": []
   },
   "outputs": [],
   "source": [
    "train_prediction = model.predict(x_train[numeric_cols])"
   ]
  },
  {
   "cell_type": "code",
   "execution_count": 17,
   "id": "5812f228",
   "metadata": {
    "execution": {
     "iopub.execute_input": "2025-05-05T10:22:39.311872Z",
     "iopub.status.busy": "2025-05-05T10:22:39.311611Z",
     "iopub.status.idle": "2025-05-05T10:22:39.319934Z",
     "shell.execute_reply": "2025-05-05T10:22:39.319189Z"
    },
    "papermill": {
     "duration": 0.01372,
     "end_time": "2025-05-05T10:22:39.321089",
     "exception": false,
     "start_time": "2025-05-05T10:22:39.307369",
     "status": "completed"
    },
    "tags": []
   },
   "outputs": [],
   "source": [
    "val_prediction = model.predict(x_val[numeric_cols])"
   ]
  },
  {
   "cell_type": "code",
   "execution_count": 18,
   "id": "2380362c",
   "metadata": {
    "execution": {
     "iopub.execute_input": "2025-05-05T10:22:39.329372Z",
     "iopub.status.busy": "2025-05-05T10:22:39.329091Z",
     "iopub.status.idle": "2025-05-05T10:22:39.333867Z",
     "shell.execute_reply": "2025-05-05T10:22:39.333013Z"
    },
    "papermill": {
     "duration": 0.010427,
     "end_time": "2025-05-05T10:22:39.335229",
     "exception": false,
     "start_time": "2025-05-05T10:22:39.324802",
     "status": "completed"
    },
    "tags": []
   },
   "outputs": [],
   "source": [
    "comparison_df = pd.DataFrame({\n",
    "    'Actual': x_val['diagnosis'],\n",
    "    'Prediction': val_prediction\n",
    "    })"
   ]
  },
  {
   "cell_type": "code",
   "execution_count": 19,
   "id": "55ca9eba",
   "metadata": {
    "execution": {
     "iopub.execute_input": "2025-05-05T10:22:39.343924Z",
     "iopub.status.busy": "2025-05-05T10:22:39.343194Z",
     "iopub.status.idle": "2025-05-05T10:22:39.362163Z",
     "shell.execute_reply": "2025-05-05T10:22:39.361381Z"
    },
    "papermill": {
     "duration": 0.024558,
     "end_time": "2025-05-05T10:22:39.363524",
     "exception": false,
     "start_time": "2025-05-05T10:22:39.338966",
     "status": "completed"
    },
    "tags": []
   },
   "outputs": [
    {
     "data": {
      "text/html": [
       "<div>\n",
       "<style scoped>\n",
       "    .dataframe tbody tr th:only-of-type {\n",
       "        vertical-align: middle;\n",
       "    }\n",
       "\n",
       "    .dataframe tbody tr th {\n",
       "        vertical-align: top;\n",
       "    }\n",
       "\n",
       "    .dataframe thead th {\n",
       "        text-align: right;\n",
       "    }\n",
       "</style>\n",
       "<table border=\"1\" class=\"dataframe\">\n",
       "  <thead>\n",
       "    <tr style=\"text-align: right;\">\n",
       "      <th></th>\n",
       "      <th>Actual</th>\n",
       "      <th>Prediction</th>\n",
       "    </tr>\n",
       "  </thead>\n",
       "  <tbody>\n",
       "    <tr>\n",
       "      <th>297</th>\n",
       "      <td>1</td>\n",
       "      <td>0</td>\n",
       "    </tr>\n",
       "  </tbody>\n",
       "</table>\n",
       "</div>"
      ],
      "text/plain": [
       "     Actual  Prediction\n",
       "297       1           0"
      ]
     },
     "execution_count": 19,
     "metadata": {},
     "output_type": "execute_result"
    }
   ],
   "source": [
    "comparison_df[comparison_df['Actual']!=comparison_df['Prediction']]"
   ]
  }
 ],
 "metadata": {
  "kaggle": {
   "accelerator": "none",
   "dataSources": [
    {
     "datasetId": 180,
     "sourceId": 408,
     "sourceType": "datasetVersion"
    }
   ],
   "dockerImageVersionId": 31012,
   "isGpuEnabled": false,
   "isInternetEnabled": true,
   "language": "python",
   "sourceType": "notebook"
  },
  "kernelspec": {
   "display_name": "Python 3 (ipykernel)",
   "language": "python",
   "name": "python3"
  },
  "language_info": {
   "codemirror_mode": {
    "name": "ipython",
    "version": 3
   },
   "file_extension": ".py",
   "mimetype": "text/x-python",
   "name": "python",
   "nbconvert_exporter": "python",
   "pygments_lexer": "ipython3",
   "version": "3.11.11"
  },
  "papermill": {
   "default_parameters": {},
   "duration": 9.775089,
   "end_time": "2025-05-05T10:22:39.986434",
   "environment_variables": {},
   "exception": null,
   "input_path": "__notebook__.ipynb",
   "output_path": "__notebook__.ipynb",
   "parameters": {},
   "start_time": "2025-05-05T10:22:30.211345",
   "version": "2.6.0"
  }
 },
 "nbformat": 4,
 "nbformat_minor": 5
}
